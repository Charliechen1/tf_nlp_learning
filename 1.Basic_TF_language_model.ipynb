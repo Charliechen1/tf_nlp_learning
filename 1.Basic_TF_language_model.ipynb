{
 "cells": [
  {
   "cell_type": "code",
   "execution_count": 1,
   "metadata": {},
   "outputs": [
    {
     "data": {
      "text/plain": [
       "'1.14.0'"
      ]
     },
     "execution_count": 1,
     "metadata": {},
     "output_type": "execute_result"
    }
   ],
   "source": [
    "import tensorflow as tf\n",
    "from tensorflow import keras\n",
    "\n",
    "import numpy as np\n",
    "tf.__version__"
   ]
  },
  {
   "cell_type": "markdown",
   "metadata": {},
   "source": [
    "### Preparing Data - the imdb dataset"
   ]
  },
  {
   "cell_type": "code",
   "execution_count": 2,
   "metadata": {},
   "outputs": [],
   "source": [
    "VOCAB_SIZE = 50000"
   ]
  },
  {
   "cell_type": "code",
   "execution_count": 3,
   "metadata": {},
   "outputs": [],
   "source": [
    "# load the movie comment dataset\n",
    "\n",
    "imdb = keras.datasets.imdb\n",
    "(train_data, train_labels), (test_data, test_labels) = imdb.load_data(num_words=VOCAB_SIZE)"
   ]
  },
  {
   "cell_type": "code",
   "execution_count": 4,
   "metadata": {},
   "outputs": [
    {
     "name": "stdout",
     "output_type": "stream",
     "text": [
      "Training entries: 25000, labels: 25000\n"
     ]
    }
   ],
   "source": [
    "print(\"Training entries: {}, labels: {}\".format(len(train_data), len(train_labels)))"
   ]
  },
  {
   "cell_type": "code",
   "execution_count": 5,
   "metadata": {},
   "outputs": [
    {
     "name": "stdout",
     "output_type": "stream",
     "text": [
      "218 [1, 14, 22, 16, 43, 530, 973, 1622, 1385, 65, 458, 4468, 66, 3941, 4, 173, 36, 256, 5, 25, 100, 43, 838, 112, 50, 670, 22665, 9, 35, 480, 284, 5, 150, 4, 172, 112, 167, 21631, 336, 385, 39, 4, 172, 4536, 1111, 17, 546, 38, 13, 447, 4, 192, 50, 16, 6, 147, 2025, 19, 14, 22, 4, 1920, 4613, 469, 4, 22, 71, 87, 12, 16, 43, 530, 38, 76, 15, 13, 1247, 4, 22, 17, 515, 17, 12, 16, 626, 18, 19193, 5, 62, 386, 12, 8, 316, 8, 106, 5, 4, 2223, 5244, 16, 480, 66, 3785, 33, 4, 130, 12, 16, 38, 619, 5, 25, 124, 51, 36, 135, 48, 25, 1415, 33, 6, 22, 12, 215, 28, 77, 52, 5, 14, 407, 16, 82, 10311, 8, 4, 107, 117, 5952, 15, 256, 4, 31050, 7, 3766, 5, 723, 36, 71, 43, 530, 476, 26, 400, 317, 46, 7, 4, 12118, 1029, 13, 104, 88, 4, 381, 15, 297, 98, 32, 2071, 56, 26, 141, 6, 194, 7486, 18, 4, 226, 22, 21, 134, 476, 26, 480, 5, 144, 30, 5535, 18, 51, 36, 28, 224, 92, 25, 104, 4, 226, 65, 16, 38, 1334, 88, 12, 16, 283, 5, 16, 4472, 113, 103, 32, 15, 16, 5345, 19, 178, 32]\n"
     ]
    }
   ],
   "source": [
    "# training data should be sentences, in each sentence, the word has already been mapped into w-bags\n",
    "print(len(train_data[0]), train_data[0])"
   ]
  },
  {
   "cell_type": "code",
   "execution_count": 6,
   "metadata": {},
   "outputs": [],
   "source": [
    "# A dictionary mapping words to an integer index\n",
    "word_index = imdb.get_word_index()\n",
    "\n",
    "# The first indices are reserved\n",
    "word_index = {k:(v+3) for k,v in word_index.items()}\n",
    "word_index[\"<PAD>\"] = 0\n",
    "word_index[\"<START>\"] = 1\n",
    "word_index[\"<UNK>\"] = 2  # unknown\n",
    "word_index[\"<UNUSED>\"] = 3\n",
    "\n",
    "reverse_word_index = dict([(value, key) for (key, value) in word_index.items()])\n",
    "\n",
    "def decode_review(text):\n",
    "    return ' '.join([reverse_word_index.get(i, '?') for i in text])"
   ]
  },
  {
   "cell_type": "code",
   "execution_count": 7,
   "metadata": {},
   "outputs": [
    {
     "data": {
      "text/plain": [
       "\"<START> this film was just brilliant casting location scenery story direction everyone's really suited the part they played and you could just imagine being there robert redford's is an amazing actor and now the same being director norman's father came from the same scottish island as myself so i loved the fact there was a real connection with this film the witty remarks throughout the film were great it was just brilliant so much that i bought the film as soon as it was released for retail and would recommend it to everyone to watch and the fly fishing was amazing really cried at the end it was so sad and you know what they say if you cry at a film it must have been good and this definitely was also congratulations to the two little boy's that played the part's of norman and paul they were just brilliant children are often left out of the praising list i think because the stars that play them all grown up are such a big profile for the whole film but these children are amazing and should be praised for what they have done don't you think the whole story was so lovely because it was true and was someone's life after all that was shared with us all\""
      ]
     },
     "execution_count": 7,
     "metadata": {},
     "output_type": "execute_result"
    }
   ],
   "source": [
    "decode_review(train_data[0])"
   ]
  },
  {
   "cell_type": "code",
   "execution_count": 8,
   "metadata": {},
   "outputs": [],
   "source": [
    "# padding of the data\n",
    "train_data = keras.preprocessing.sequence.pad_sequences(\n",
    "    train_data,\n",
    "    value = word_index[\"<PAD>\"],\n",
    "    padding = 'post',\n",
    "    maxlen = 512\n",
    ")\n",
    "\n",
    "test_data = keras.preprocessing.sequence.pad_sequences(\n",
    "    test_data,\n",
    "    value = word_index[\"<PAD>\"],\n",
    "    padding = 'post',\n",
    "    maxlen = 512\n",
    ")"
   ]
  },
  {
   "cell_type": "markdown",
   "metadata": {},
   "source": [
    "### Construct Model - with different ways to eliminate overfitting"
   ]
  },
  {
   "cell_type": "markdown",
   "metadata": {},
   "source": [
    "#### original model"
   ]
  },
  {
   "cell_type": "code",
   "execution_count": 9,
   "metadata": {},
   "outputs": [
    {
     "name": "stderr",
     "output_type": "stream",
     "text": [
      "WARNING: Logging before flag parsing goes to stderr.\n",
      "W0821 23:17:59.152020 139727268742976 deprecation.py:506] From /home/charlie/.conda/envs/tf/lib/python3.7/site-packages/tensorflow/python/keras/initializers.py:119: calling RandomUniform.__init__ (from tensorflow.python.ops.init_ops) with dtype is deprecated and will be removed in a future version.\n",
      "Instructions for updating:\n",
      "Call initializer instance with the dtype argument instead of passing it to the constructor\n",
      "W0821 23:17:59.166728 139727268742976 deprecation.py:506] From /home/charlie/.conda/envs/tf/lib/python3.7/site-packages/tensorflow/python/ops/init_ops.py:1251: calling VarianceScaling.__init__ (from tensorflow.python.ops.init_ops) with dtype is deprecated and will be removed in a future version.\n",
      "Instructions for updating:\n",
      "Call initializer instance with the dtype argument instead of passing it to the constructor\n"
     ]
    }
   ],
   "source": [
    "EMB_SIZE = 64\n",
    "\n",
    "model = keras.Sequential()\n",
    "model.add(keras.layers.Embedding(VOCAB_SIZE, EMB_SIZE)) # embed the words as a 32D vector\n",
    "model.add(keras.layers.GlobalAveragePooling1D()) # averaging the word embedings to one single embedding for the sequence\n",
    "model.add(keras.layers.Dense(EMB_SIZE, activation=tf.nn.relu)) # one layer of dense\n",
    "model.add(keras.layers.Dense(EMB_SIZE, activation=tf.nn.relu)) # one layer of dense\n",
    "model.add(keras.layers.Dense(1, activation=tf.nn.sigmoid))"
   ]
  },
  {
   "cell_type": "code",
   "execution_count": 10,
   "metadata": {},
   "outputs": [
    {
     "name": "stdout",
     "output_type": "stream",
     "text": [
      "Model: \"sequential\"\n",
      "_________________________________________________________________\n",
      "Layer (type)                 Output Shape              Param #   \n",
      "=================================================================\n",
      "embedding (Embedding)        (None, None, 64)          3200000   \n",
      "_________________________________________________________________\n",
      "global_average_pooling1d (Gl (None, 64)                0         \n",
      "_________________________________________________________________\n",
      "dense (Dense)                (None, 64)                4160      \n",
      "_________________________________________________________________\n",
      "dense_1 (Dense)              (None, 64)                4160      \n",
      "_________________________________________________________________\n",
      "dense_2 (Dense)              (None, 1)                 65        \n",
      "=================================================================\n",
      "Total params: 3,208,385\n",
      "Trainable params: 3,208,385\n",
      "Non-trainable params: 0\n",
      "_________________________________________________________________\n"
     ]
    }
   ],
   "source": [
    "model.summary()"
   ]
  },
  {
   "cell_type": "code",
   "execution_count": 11,
   "metadata": {},
   "outputs": [
    {
     "name": "stderr",
     "output_type": "stream",
     "text": [
      "W0821 23:17:59.263196 139727268742976 deprecation.py:323] From /home/charlie/.conda/envs/tf/lib/python3.7/site-packages/tensorflow/python/ops/nn_impl.py:180: add_dispatch_support.<locals>.wrapper (from tensorflow.python.ops.array_ops) is deprecated and will be removed in a future version.\n",
      "Instructions for updating:\n",
      "Use tf.where in 2.0, which has the same broadcast rule as np.where\n"
     ]
    }
   ],
   "source": [
    "model.compile(optimizer=tf.train.AdamOptimizer(),\n",
    "              loss='binary_crossentropy',\n",
    "              metrics=['accuracy'])"
   ]
  },
  {
   "cell_type": "code",
   "execution_count": 12,
   "metadata": {},
   "outputs": [],
   "source": [
    "x_val = train_data[:10000]\n",
    "partial_x_train = train_data[10000:]\n",
    "\n",
    "y_val = train_labels[:10000]\n",
    "partial_y_train = train_labels[10000:]"
   ]
  },
  {
   "cell_type": "code",
   "execution_count": 13,
   "metadata": {
    "scrolled": true
   },
   "outputs": [
    {
     "name": "stdout",
     "output_type": "stream",
     "text": [
      "Train on 15000 samples, validate on 10000 samples\n",
      "Epoch 1/30\n",
      "15000/15000 [==============================] - 8s 535us/sample - loss: 0.6912 - acc: 0.5489 - val_loss: 0.6862 - val_acc: 0.6752\n",
      "Epoch 2/30\n",
      "15000/15000 [==============================] - 7s 476us/sample - loss: 0.6668 - acc: 0.7075 - val_loss: 0.6319 - val_acc: 0.7743\n",
      "Epoch 3/30\n",
      "15000/15000 [==============================] - 7s 495us/sample - loss: 0.5472 - acc: 0.8213 - val_loss: 0.4652 - val_acc: 0.8327\n",
      "Epoch 4/30\n",
      "15000/15000 [==============================] - 8s 509us/sample - loss: 0.3526 - acc: 0.8793 - val_loss: 0.3352 - val_acc: 0.8711\n",
      "Epoch 5/30\n",
      "15000/15000 [==============================] - 8s 524us/sample - loss: 0.2365 - acc: 0.9186 - val_loss: 0.2921 - val_acc: 0.8861\n",
      "Epoch 6/30\n",
      "15000/15000 [==============================] - 7s 485us/sample - loss: 0.1758 - acc: 0.9419 - val_loss: 0.2769 - val_acc: 0.8914\n",
      "Epoch 7/30\n",
      "15000/15000 [==============================] - 8s 522us/sample - loss: 0.1338 - acc: 0.9577 - val_loss: 0.2747 - val_acc: 0.8933\n",
      "Epoch 8/30\n",
      "15000/15000 [==============================] - 7s 481us/sample - loss: 0.1040 - acc: 0.9689 - val_loss: 0.2752 - val_acc: 0.8945\n",
      "Epoch 9/30\n",
      "15000/15000 [==============================] - 7s 480us/sample - loss: 0.0814 - acc: 0.9769 - val_loss: 0.2859 - val_acc: 0.8937\n",
      "Epoch 10/30\n",
      "15000/15000 [==============================] - 7s 462us/sample - loss: 0.0621 - acc: 0.9846 - val_loss: 0.2913 - val_acc: 0.8955\n",
      "Epoch 11/30\n",
      "15000/15000 [==============================] - 7s 460us/sample - loss: 0.0478 - acc: 0.9899 - val_loss: 0.3017 - val_acc: 0.8935\n",
      "Epoch 12/30\n",
      "15000/15000 [==============================] - 7s 455us/sample - loss: 0.0388 - acc: 0.9925 - val_loss: 0.3282 - val_acc: 0.8884\n",
      "Epoch 13/30\n",
      "15000/15000 [==============================] - 7s 461us/sample - loss: 0.0300 - acc: 0.9945 - val_loss: 0.3299 - val_acc: 0.8924\n",
      "Epoch 14/30\n",
      "15000/15000 [==============================] - 7s 456us/sample - loss: 0.0237 - acc: 0.9963 - val_loss: 0.3431 - val_acc: 0.8921\n",
      "Epoch 15/30\n",
      "15000/15000 [==============================] - 7s 457us/sample - loss: 0.0189 - acc: 0.9973 - val_loss: 0.3583 - val_acc: 0.8903\n",
      "Epoch 16/30\n",
      "15000/15000 [==============================] - 7s 461us/sample - loss: 0.0156 - acc: 0.9977 - val_loss: 0.4131 - val_acc: 0.8788\n",
      "Epoch 17/30\n",
      "15000/15000 [==============================] - 7s 456us/sample - loss: 0.0152 - acc: 0.9979 - val_loss: 0.3818 - val_acc: 0.8885\n",
      "Epoch 18/30\n",
      "15000/15000 [==============================] - 7s 460us/sample - loss: 0.0111 - acc: 0.9987 - val_loss: 0.3945 - val_acc: 0.8875\n",
      "Epoch 19/30\n",
      "15000/15000 [==============================] - 7s 454us/sample - loss: 0.0087 - acc: 0.9993 - val_loss: 0.4071 - val_acc: 0.8880\n",
      "Epoch 20/30\n",
      "15000/15000 [==============================] - 7s 458us/sample - loss: 0.0070 - acc: 0.9994 - val_loss: 0.4229 - val_acc: 0.8882\n",
      "Epoch 21/30\n",
      "15000/15000 [==============================] - 7s 454us/sample - loss: 0.0057 - acc: 0.9997 - val_loss: 0.4331 - val_acc: 0.8871\n",
      "Epoch 22/30\n",
      "15000/15000 [==============================] - 7s 453us/sample - loss: 0.0048 - acc: 0.9999 - val_loss: 0.4406 - val_acc: 0.8859\n",
      "Epoch 23/30\n",
      "15000/15000 [==============================] - 7s 455us/sample - loss: 0.0042 - acc: 0.9998 - val_loss: 0.4519 - val_acc: 0.8849\n",
      "Epoch 24/30\n",
      "15000/15000 [==============================] - 7s 456us/sample - loss: 0.0036 - acc: 0.9999 - val_loss: 0.4634 - val_acc: 0.8865\n",
      "Epoch 25/30\n",
      "15000/15000 [==============================] - 7s 451us/sample - loss: 0.0030 - acc: 0.9999 - val_loss: 0.4714 - val_acc: 0.8856\n",
      "Epoch 26/30\n",
      "15000/15000 [==============================] - 7s 459us/sample - loss: 0.0026 - acc: 0.9999 - val_loss: 0.4827 - val_acc: 0.8860\n",
      "Epoch 27/30\n",
      "15000/15000 [==============================] - 7s 452us/sample - loss: 0.0024 - acc: 1.0000 - val_loss: 0.4873 - val_acc: 0.8853\n",
      "Epoch 28/30\n",
      "15000/15000 [==============================] - 7s 454us/sample - loss: 0.0021 - acc: 0.9999 - val_loss: 0.4978 - val_acc: 0.8851\n",
      "Epoch 29/30\n",
      "15000/15000 [==============================] - 7s 456us/sample - loss: 0.0018 - acc: 1.0000 - val_loss: 0.5069 - val_acc: 0.8851\n",
      "Epoch 30/30\n",
      "15000/15000 [==============================] - 7s 452us/sample - loss: 0.0017 - acc: 0.9999 - val_loss: 0.5114 - val_acc: 0.8849\n"
     ]
    }
   ],
   "source": [
    "history = model.fit(partial_x_train,\n",
    "                    partial_y_train,\n",
    "                    epochs=30,\n",
    "                    batch_size=512,\n",
    "                    validation_data=(x_val, y_val),\n",
    "                    verbose=1)"
   ]
  },
  {
   "cell_type": "markdown",
   "metadata": {},
   "source": [
    "The overfitting phenomina happens at about epoch 15."
   ]
  },
  {
   "cell_type": "markdown",
   "metadata": {},
   "source": [
    "#### Model with l2 Regularization"
   ]
  },
  {
   "cell_type": "code",
   "execution_count": 15,
   "metadata": {},
   "outputs": [],
   "source": [
    "model2 = keras.Sequential()\n",
    "model2.add(keras.layers.Embedding(VOCAB_SIZE, EMB_SIZE)) # embed the words as a 32D vector\n",
    "model2.add(keras.layers.GlobalAveragePooling1D()) # averaging the word embedings to one single embedding for the sequence\n",
    "model2.add(keras.layers.Dense(EMB_SIZE, activation=tf.nn.relu, kernel_regularizer=keras.regularizers.l2(0.001))) # one layer of dense\n",
    "model2.add(keras.layers.Dense(EMB_SIZE, activation=tf.nn.relu)) # one layer of dense\n",
    "model2.add(keras.layers.Dense(1, activation=tf.nn.sigmoid))"
   ]
  },
  {
   "cell_type": "code",
   "execution_count": 16,
   "metadata": {},
   "outputs": [
    {
     "name": "stdout",
     "output_type": "stream",
     "text": [
      "Model: \"sequential_2\"\n",
      "_________________________________________________________________\n",
      "Layer (type)                 Output Shape              Param #   \n",
      "=================================================================\n",
      "embedding_2 (Embedding)      (None, None, 64)          3200000   \n",
      "_________________________________________________________________\n",
      "global_average_pooling1d_2 ( (None, 64)                0         \n",
      "_________________________________________________________________\n",
      "dense_3 (Dense)              (None, 64)                4160      \n",
      "_________________________________________________________________\n",
      "dense_4 (Dense)              (None, 64)                4160      \n",
      "_________________________________________________________________\n",
      "dense_5 (Dense)              (None, 1)                 65        \n",
      "=================================================================\n",
      "Total params: 3,208,385\n",
      "Trainable params: 3,208,385\n",
      "Non-trainable params: 0\n",
      "_________________________________________________________________\n"
     ]
    }
   ],
   "source": [
    "model2.summary()"
   ]
  },
  {
   "cell_type": "code",
   "execution_count": 17,
   "metadata": {},
   "outputs": [],
   "source": [
    "model2.compile(optimizer=tf.train.AdamOptimizer(),\n",
    "              loss='binary_crossentropy',\n",
    "              metrics=['accuracy'])"
   ]
  },
  {
   "cell_type": "code",
   "execution_count": 18,
   "metadata": {},
   "outputs": [],
   "source": [
    "x_val = train_data[:10000]\n",
    "partial_x_train = train_data[10000:]\n",
    "\n",
    "y_val = train_labels[:10000]\n",
    "partial_y_train = train_labels[10000:]"
   ]
  },
  {
   "cell_type": "code",
   "execution_count": 19,
   "metadata": {
    "scrolled": true
   },
   "outputs": [
    {
     "name": "stdout",
     "output_type": "stream",
     "text": [
      "Train on 15000 samples, validate on 10000 samples\n",
      "Epoch 1/30\n",
      "15000/15000 [==============================] - 7s 485us/sample - loss: 0.7448 - acc: 0.5238 - val_loss: 0.7311 - val_acc: 0.6599\n",
      "Epoch 2/30\n",
      "15000/15000 [==============================] - 7s 481us/sample - loss: 0.7139 - acc: 0.6849 - val_loss: 0.6883 - val_acc: 0.7646\n",
      "Epoch 3/30\n",
      "15000/15000 [==============================] - 7s 471us/sample - loss: 0.6222 - acc: 0.7956 - val_loss: 0.5443 - val_acc: 0.8197\n",
      "Epoch 4/30\n",
      "15000/15000 [==============================] - 7s 469us/sample - loss: 0.4336 - acc: 0.8683 - val_loss: 0.4047 - val_acc: 0.8530\n",
      "Epoch 5/30\n",
      "15000/15000 [==============================] - 7s 475us/sample - loss: 0.3024 - acc: 0.9091 - val_loss: 0.3409 - val_acc: 0.8842\n",
      "Epoch 6/30\n",
      "15000/15000 [==============================] - 7s 458us/sample - loss: 0.2350 - acc: 0.9357 - val_loss: 0.3213 - val_acc: 0.8915\n",
      "Epoch 7/30\n",
      "15000/15000 [==============================] - 7s 468us/sample - loss: 0.1928 - acc: 0.9506 - val_loss: 0.3182 - val_acc: 0.8900\n",
      "Epoch 8/30\n",
      "15000/15000 [==============================] - 7s 479us/sample - loss: 0.1630 - acc: 0.9619 - val_loss: 0.3135 - val_acc: 0.8934\n",
      "Epoch 9/30\n",
      "15000/15000 [==============================] - 7s 486us/sample - loss: 0.1370 - acc: 0.9724 - val_loss: 0.3137 - val_acc: 0.8950\n",
      "Epoch 10/30\n",
      "15000/15000 [==============================] - 7s 466us/sample - loss: 0.1160 - acc: 0.9804 - val_loss: 0.3220 - val_acc: 0.8948\n",
      "Epoch 11/30\n",
      "15000/15000 [==============================] - 7s 469us/sample - loss: 0.1013 - acc: 0.9852 - val_loss: 0.3193 - val_acc: 0.8957\n",
      "Epoch 12/30\n",
      "15000/15000 [==============================] - 7s 464us/sample - loss: 0.0899 - acc: 0.9890 - val_loss: 0.3245 - val_acc: 0.8945\n",
      "Epoch 13/30\n",
      "15000/15000 [==============================] - 8s 511us/sample - loss: 0.0786 - acc: 0.9926 - val_loss: 0.3317 - val_acc: 0.8949\n",
      "Epoch 14/30\n",
      "15000/15000 [==============================] - 7s 470us/sample - loss: 0.0710 - acc: 0.9944 - val_loss: 0.3387 - val_acc: 0.8923\n",
      "Epoch 15/30\n",
      "15000/15000 [==============================] - 7s 460us/sample - loss: 0.0644 - acc: 0.9955 - val_loss: 0.3417 - val_acc: 0.8923\n",
      "Epoch 16/30\n",
      "15000/15000 [==============================] - 7s 458us/sample - loss: 0.0587 - acc: 0.9965 - val_loss: 0.3562 - val_acc: 0.8886\n",
      "Epoch 17/30\n",
      "15000/15000 [==============================] - 7s 467us/sample - loss: 0.0539 - acc: 0.9968 - val_loss: 0.3544 - val_acc: 0.8920\n",
      "Epoch 18/30\n",
      "15000/15000 [==============================] - 7s 459us/sample - loss: 0.0500 - acc: 0.9974 - val_loss: 0.3598 - val_acc: 0.8913\n",
      "Epoch 19/30\n",
      "15000/15000 [==============================] - 7s 465us/sample - loss: 0.0472 - acc: 0.9975 - val_loss: 0.3672 - val_acc: 0.8894\n",
      "Epoch 20/30\n",
      "15000/15000 [==============================] - 7s 463us/sample - loss: 0.0421 - acc: 0.9985 - val_loss: 0.3717 - val_acc: 0.8896\n",
      "Epoch 21/30\n",
      "15000/15000 [==============================] - 7s 463us/sample - loss: 0.0392 - acc: 0.9989 - val_loss: 0.3751 - val_acc: 0.8884\n",
      "Epoch 22/30\n",
      "15000/15000 [==============================] - 7s 467us/sample - loss: 0.0372 - acc: 0.9991 - val_loss: 0.3828 - val_acc: 0.8878\n",
      "Epoch 23/30\n",
      "15000/15000 [==============================] - 7s 465us/sample - loss: 0.0345 - acc: 0.9993 - val_loss: 0.3843 - val_acc: 0.8865\n",
      "Epoch 24/30\n",
      "15000/15000 [==============================] - 7s 465us/sample - loss: 0.0325 - acc: 0.9993 - val_loss: 0.3975 - val_acc: 0.8862\n",
      "Epoch 25/30\n",
      "15000/15000 [==============================] - 7s 466us/sample - loss: 0.0319 - acc: 0.9991 - val_loss: 0.3948 - val_acc: 0.8840\n",
      "Epoch 26/30\n",
      "15000/15000 [==============================] - 7s 461us/sample - loss: 0.0291 - acc: 0.9997 - val_loss: 0.3970 - val_acc: 0.8847\n",
      "Epoch 27/30\n",
      "15000/15000 [==============================] - 7s 462us/sample - loss: 0.0276 - acc: 0.9997 - val_loss: 0.3986 - val_acc: 0.8859\n",
      "Epoch 28/30\n",
      "15000/15000 [==============================] - 7s 463us/sample - loss: 0.0259 - acc: 0.9997 - val_loss: 0.4026 - val_acc: 0.8849\n",
      "Epoch 29/30\n",
      "15000/15000 [==============================] - 7s 460us/sample - loss: 0.0248 - acc: 0.9997 - val_loss: 0.4038 - val_acc: 0.8852\n",
      "Epoch 30/30\n",
      "15000/15000 [==============================] - 7s 461us/sample - loss: 0.0238 - acc: 0.9999 - val_loss: 0.4118 - val_acc: 0.8830\n"
     ]
    }
   ],
   "source": [
    "history2 = model2.fit(partial_x_train,\n",
    "                      partial_y_train,\n",
    "                      epochs=30,\n",
    "                      batch_size=512,\n",
    "                      validation_data=(x_val, y_val),\n",
    "                      verbose=1)"
   ]
  },
  {
   "cell_type": "markdown",
   "metadata": {},
   "source": [
    "The overfitting phenomina happens at about epoch 18."
   ]
  },
  {
   "cell_type": "markdown",
   "metadata": {},
   "source": [
    "#### Model with l2 Regularization"
   ]
  },
  {
   "cell_type": "code",
   "execution_count": 34,
   "metadata": {},
   "outputs": [],
   "source": [
    "model3 = keras.Sequential()\n",
    "model3.add(keras.layers.Embedding(VOCAB_SIZE, EMB_SIZE)) # embed the words as a 32D vector\n",
    "model3.add(keras.layers.GlobalAveragePooling1D()) # averaging the word embedings to one single embedding for the sequence\n",
    "model3.add(keras.layers.Dense(EMB_SIZE, activation=tf.nn.relu)) # one layer of dense\n",
    "model3.add(keras.layers.Dropout(0.2)),\n",
    "model3.add(keras.layers.Dense(EMB_SIZE, activation=tf.nn.relu)) # one layer of dense\n",
    "model3.add(keras.layers.Dropout(0.2)),\n",
    "model3.add(keras.layers.Dense(1, activation=tf.nn.sigmoid))"
   ]
  },
  {
   "cell_type": "code",
   "execution_count": 35,
   "metadata": {},
   "outputs": [
    {
     "name": "stdout",
     "output_type": "stream",
     "text": [
      "Model: \"sequential_4\"\n",
      "_________________________________________________________________\n",
      "Layer (type)                 Output Shape              Param #   \n",
      "=================================================================\n",
      "embedding_4 (Embedding)      (None, None, 64)          3200000   \n",
      "_________________________________________________________________\n",
      "global_average_pooling1d_4 ( (None, 64)                0         \n",
      "_________________________________________________________________\n",
      "dense_9 (Dense)              (None, 64)                4160      \n",
      "_________________________________________________________________\n",
      "dropout_2 (Dropout)          (None, 64)                0         \n",
      "_________________________________________________________________\n",
      "dense_10 (Dense)             (None, 64)                4160      \n",
      "_________________________________________________________________\n",
      "dropout_3 (Dropout)          (None, 64)                0         \n",
      "_________________________________________________________________\n",
      "dense_11 (Dense)             (None, 1)                 65        \n",
      "=================================================================\n",
      "Total params: 3,208,385\n",
      "Trainable params: 3,208,385\n",
      "Non-trainable params: 0\n",
      "_________________________________________________________________\n"
     ]
    }
   ],
   "source": [
    "model3.summary()"
   ]
  },
  {
   "cell_type": "code",
   "execution_count": 36,
   "metadata": {},
   "outputs": [],
   "source": [
    "model3.compile(optimizer=tf.train.AdamOptimizer(),\n",
    "              loss='binary_crossentropy',\n",
    "              metrics=['accuracy'])"
   ]
  },
  {
   "cell_type": "code",
   "execution_count": 37,
   "metadata": {},
   "outputs": [],
   "source": [
    "x_val = train_data[:10000]\n",
    "partial_x_train = train_data[10000:]\n",
    "\n",
    "y_val = train_labels[:10000]\n",
    "partial_y_train = train_labels[10000:]"
   ]
  },
  {
   "cell_type": "code",
   "execution_count": 38,
   "metadata": {
    "scrolled": true
   },
   "outputs": [
    {
     "name": "stdout",
     "output_type": "stream",
     "text": [
      "Train on 15000 samples, validate on 10000 samples\n",
      "Epoch 1/30\n",
      "15000/15000 [==============================] - 7s 481us/sample - loss: 0.6921 - acc: 0.5379 - val_loss: 0.6888 - val_acc: 0.6960\n",
      "Epoch 2/30\n",
      "15000/15000 [==============================] - 7s 460us/sample - loss: 0.6746 - acc: 0.6768 - val_loss: 0.6449 - val_acc: 0.7812\n",
      "Epoch 3/30\n",
      "15000/15000 [==============================] - 7s 453us/sample - loss: 0.5730 - acc: 0.7931 - val_loss: 0.4888 - val_acc: 0.8268\n",
      "Epoch 4/30\n",
      "15000/15000 [==============================] - 7s 462us/sample - loss: 0.3846 - acc: 0.8629 - val_loss: 0.3432 - val_acc: 0.8702\n",
      "Epoch 5/30\n",
      "15000/15000 [==============================] - 7s 464us/sample - loss: 0.2572 - acc: 0.9059 - val_loss: 0.2915 - val_acc: 0.8853\n",
      "Epoch 6/30\n",
      "15000/15000 [==============================] - 7s 451us/sample - loss: 0.1930 - acc: 0.9309 - val_loss: 0.2830 - val_acc: 0.8866\n",
      "Epoch 7/30\n",
      "15000/15000 [==============================] - 7s 455us/sample - loss: 0.1475 - acc: 0.9501 - val_loss: 0.2769 - val_acc: 0.8922\n",
      "Epoch 8/30\n",
      "15000/15000 [==============================] - 7s 453us/sample - loss: 0.1128 - acc: 0.9641 - val_loss: 0.2771 - val_acc: 0.8948\n",
      "Epoch 9/30\n",
      "15000/15000 [==============================] - 7s 452us/sample - loss: 0.0866 - acc: 0.9757 - val_loss: 0.2827 - val_acc: 0.8957\n",
      "Epoch 10/30\n",
      "15000/15000 [==============================] - 7s 471us/sample - loss: 0.0674 - acc: 0.9829 - val_loss: 0.2940 - val_acc: 0.8965\n",
      "Epoch 11/30\n",
      "15000/15000 [==============================] - 7s 465us/sample - loss: 0.0521 - acc: 0.9879 - val_loss: 0.3166 - val_acc: 0.8919\n",
      "Epoch 12/30\n",
      "15000/15000 [==============================] - 7s 458us/sample - loss: 0.0424 - acc: 0.9908 - val_loss: 0.3223 - val_acc: 0.8942\n",
      "Epoch 13/30\n",
      "15000/15000 [==============================] - 7s 460us/sample - loss: 0.0332 - acc: 0.9934 - val_loss: 0.3449 - val_acc: 0.8914\n",
      "Epoch 14/30\n",
      "15000/15000 [==============================] - 7s 460us/sample - loss: 0.0262 - acc: 0.9951 - val_loss: 0.3553 - val_acc: 0.8922\n",
      "Epoch 15/30\n",
      "15000/15000 [==============================] - 7s 456us/sample - loss: 0.0209 - acc: 0.9963 - val_loss: 0.3785 - val_acc: 0.8900\n",
      "Epoch 16/30\n",
      "15000/15000 [==============================] - 7s 473us/sample - loss: 0.0164 - acc: 0.9975 - val_loss: 0.3852 - val_acc: 0.8902\n",
      "Epoch 17/30\n",
      "15000/15000 [==============================] - 7s 470us/sample - loss: 0.0137 - acc: 0.9981 - val_loss: 0.4054 - val_acc: 0.8895\n",
      "Epoch 18/30\n",
      "15000/15000 [==============================] - 7s 463us/sample - loss: 0.0110 - acc: 0.9984 - val_loss: 0.4314 - val_acc: 0.8870\n",
      "Epoch 19/30\n",
      "15000/15000 [==============================] - 7s 462us/sample - loss: 0.0094 - acc: 0.9987 - val_loss: 0.4313 - val_acc: 0.8877\n",
      "Epoch 20/30\n",
      "15000/15000 [==============================] - 7s 460us/sample - loss: 0.0081 - acc: 0.9990 - val_loss: 0.4473 - val_acc: 0.8872\n",
      "Epoch 21/30\n",
      "15000/15000 [==============================] - 7s 459us/sample - loss: 0.0064 - acc: 0.9997 - val_loss: 0.4607 - val_acc: 0.8871\n",
      "Epoch 22/30\n",
      "15000/15000 [==============================] - 7s 462us/sample - loss: 0.0055 - acc: 0.9994 - val_loss: 0.4697 - val_acc: 0.8853\n",
      "Epoch 23/30\n",
      "15000/15000 [==============================] - 7s 458us/sample - loss: 0.0043 - acc: 0.9997 - val_loss: 0.4805 - val_acc: 0.8847\n",
      "Epoch 24/30\n",
      "15000/15000 [==============================] - 7s 464us/sample - loss: 0.0042 - acc: 0.9997 - val_loss: 0.4940 - val_acc: 0.8844\n",
      "Epoch 25/30\n",
      "15000/15000 [==============================] - 7s 462us/sample - loss: 0.0030 - acc: 0.9997 - val_loss: 0.5173 - val_acc: 0.8856\n",
      "Epoch 26/30\n",
      "15000/15000 [==============================] - 7s 457us/sample - loss: 0.0025 - acc: 0.9999 - val_loss: 0.5138 - val_acc: 0.8824\n",
      "Epoch 27/30\n",
      "15000/15000 [==============================] - 7s 458us/sample - loss: 0.0023 - acc: 0.9999 - val_loss: 0.5250 - val_acc: 0.8827\n",
      "Epoch 28/30\n",
      "15000/15000 [==============================] - 7s 457us/sample - loss: 0.0019 - acc: 1.0000 - val_loss: 0.5351 - val_acc: 0.8825\n",
      "Epoch 29/30\n",
      "15000/15000 [==============================] - 7s 453us/sample - loss: 0.0020 - acc: 0.9999 - val_loss: 0.5644 - val_acc: 0.8860\n",
      "Epoch 30/30\n",
      "15000/15000 [==============================] - 7s 461us/sample - loss: 0.0018 - acc: 0.9999 - val_loss: 0.5573 - val_acc: 0.8832\n"
     ]
    }
   ],
   "source": [
    "history3 = model3.fit(partial_x_train,\n",
    "                      partial_y_train,\n",
    "                      epochs=30,\n",
    "                      batch_size=512,\n",
    "                      validation_data=(x_val, y_val),\n",
    "                      verbose=1)"
   ]
  },
  {
   "cell_type": "markdown",
   "metadata": {},
   "source": [
    "The overfitting phenomina happens at about epoch 18."
   ]
  },
  {
   "cell_type": "markdown",
   "metadata": {},
   "source": [
    "### Evaluate the model"
   ]
  },
  {
   "cell_type": "code",
   "execution_count": 39,
   "metadata": {},
   "outputs": [
    {
     "name": "stdout",
     "output_type": "stream",
     "text": [
      "25000/25000 [==============================] - 1s 58us/sample - loss: 0.5932 - acc: 0.8658\n",
      "[0.593247857580185, 0.86584]\n",
      "25000/25000 [==============================] - 1s 56us/sample - loss: 0.4847 - acc: 0.8632\n",
      "[0.48467225369930267, 0.86324]\n",
      "25000/25000 [==============================] - 1s 57us/sample - loss: 0.6376 - acc: 0.8664\n",
      "[0.637641857098341, 0.86636]\n"
     ]
    }
   ],
   "source": [
    "results1 = model.evaluate(test_data, test_labels)\n",
    "print(results1)\n",
    "\n",
    "results2 = model2.evaluate(test_data, test_labels)\n",
    "print(results2)\n",
    "\n",
    "results3 = model3.evaluate(test_data, test_labels)\n",
    "print(results3)"
   ]
  },
  {
   "cell_type": "code",
   "execution_count": 40,
   "metadata": {},
   "outputs": [
    {
     "data": {
      "text/plain": [
       "dict_keys(['loss', 'acc', 'val_loss', 'val_acc'])"
      ]
     },
     "execution_count": 40,
     "metadata": {},
     "output_type": "execute_result"
    }
   ],
   "source": [
    "history_dict = history.history\n",
    "history_dict.keys()"
   ]
  },
  {
   "cell_type": "code",
   "execution_count": 41,
   "metadata": {},
   "outputs": [
    {
     "data": {
      "image/png": "[encoded data removed]",
      "text/plain": [
       "<Figure size 432x288 with 1 Axes>"
      ]
     },
     "metadata": {
      "needs_background": "light"
     },
     "output_type": "display_data"
    }
   ],
   "source": [
    "import matplotlib.pyplot as plt\n",
    "\n",
    "acc = history.history['acc']\n",
    "val_acc = history.history['val_acc']\n",
    "loss = history.history['loss']\n",
    "val_loss = history.history['val_loss']\n",
    "\n",
    "acc2 = history2.history['acc']\n",
    "val_acc2 = history2.history['val_acc']\n",
    "loss2 = history2.history['loss']\n",
    "val_loss2 = history2.history['val_loss']\n",
    "\n",
    "acc3 = history3.history['acc']\n",
    "val_acc3 = history3.history['val_acc']\n",
    "loss3 = history3.history['loss']\n",
    "val_loss3 = history3.history['val_loss']\n",
    "\n",
    "epochs = range(1, len(acc) + 1)\n",
    "\n",
    "# \"bo\" is for \"blue dot\"\n",
    "plt.plot(epochs, loss, 'bo', label='Training loss')\n",
    "# b is for \"solid blue line\"\n",
    "plt.plot(epochs, val_loss, 'b', label='Validation loss')\n",
    "plt.plot(epochs, val_loss2, 'r', label='Validation loss(reg)')\n",
    "plt.plot(epochs, val_loss3, 'g', label='Validation loss(dro)')\n",
    "plt.title('Training and validation loss')\n",
    "plt.xlabel('Epochs')\n",
    "plt.ylabel('Loss')\n",
    "plt.legend()\n",
    "\n",
    "plt.show()"
   ]
  },
  {
   "cell_type": "code",
   "execution_count": null,
   "metadata": {},
   "outputs": [],
   "source": []
  }
 ],
 "metadata": {
  "kernelspec": {
   "display_name": "Python 3",
   "language": "python",
   "name": "python3"
  },
  "language_info": {
   "codemirror_mode": {
    "name": "ipython",
    "version": 3
   },
   "file_extension": ".py",
   "mimetype": "text/x-python",
   "name": "python",
   "nbconvert_exporter": "python",
   "pygments_lexer": "ipython3",
   "version": "3.7.3"
  }
 },
 "nbformat": 4,
 "nbformat_minor": 2
}
